{
 "cells": [
  {
   "cell_type": "code",
   "execution_count": 3,
   "id": "ad6fe1ac-17d3-4a69-ae4d-02ee2379cce5",
   "metadata": {},
   "outputs": [],
   "source": [
    "import pandas as pd\n",
    "from sklearn.preprocessing import LabelEncoder\n",
    "from sklearn.model_selection import train_test_split, GridSearchCV\n",
    "from sklearn.ensemble import RandomForestClassifier\n",
    "from sklearn.metrics import classification_report\n",
    "from sklearn.utils import class_weight\n"
   ]
  },
  {
   "cell_type": "code",
   "execution_count": 4,
   "id": "10bcb5b7-61d9-4d13-8592-6cd6fb41434d",
   "metadata": {},
   "outputs": [],
   "source": [
    "df = pd.read_csv('../data/homicide_cleaned.csv', parse_dates=['Incident_Date'])\n",
    "df = df.dropna(subset=['Latitude','Longitude','Weapon'])\n"
   ]
  },
  {
   "cell_type": "code",
   "execution_count": 5,
   "id": "6f9dccbb-f38a-4162-8fd6-6eeb9f084127",
   "metadata": {},
   "outputs": [],
   "source": [
    "le = LabelEncoder()\n",
    "df['Weapon_Label'] = le.fit_transform(df['Weapon_Simplified'])"
   ]
  },
  {
   "cell_type": "code",
   "execution_count": 6,
   "id": "47f01735-a1f0-4907-a285-7e17470db036",
   "metadata": {},
   "outputs": [],
   "source": [
    "df['Year'] = df['Incident_Date'].dt.year\n",
    "df['Month'] = df['Incident_Date'].dt.month\n",
    "df['Weekday'] = df['Incident_Date'].dt.dayofweek"
   ]
  },
  {
   "cell_type": "code",
   "execution_count": 7,
   "id": "1e4ccf38-a9b2-4ef4-8ffb-6d3f20df5022",
   "metadata": {},
   "outputs": [
    {
     "name": "stdout",
     "output_type": "stream",
     "text": [
      "Age_Group\n",
      "Young Adult    415\n",
      "Adult          295\n",
      "Senior          91\n",
      "Minor           85\n",
      "Unknown         21\n",
      "Elderly          5\n",
      "Name: count, dtype: int64\n"
     ]
    }
   ],
   "source": [
    "def age_group(age):\n",
    "    if pd.isnull(age):\n",
    "        return'Unknown'\n",
    "    elif age < 18:\n",
    "        return 'Minor'\n",
    "    elif 18 <= age < 30:\n",
    "        return 'Young Adult'\n",
    "    elif 30 <= age < 50:\n",
    "        return 'Adult'\n",
    "    elif 50 <= age < 70:\n",
    "        return 'Senior'\n",
    "    else:\n",
    "        return 'Elderly'\n",
    "df['Age_Group'] = df['Age'].apply(age_group)\n",
    "print(df['Age_Group'].value_counts())"
   ]
  },
  {
   "cell_type": "code",
   "execution_count": 8,
   "id": "972ab7e4-7a38-449e-afcc-a0feab7594cf",
   "metadata": {},
   "outputs": [
    {
     "name": "stdout",
     "output_type": "stream",
     "text": [
      "Season\n",
      "Summer    239\n",
      "Spring    233\n",
      "Fall      224\n",
      "Winter    216\n",
      "Name: count, dtype: int64\n"
     ]
    }
   ],
   "source": [
    "#Season features\n",
    "\n",
    "def season(month):\n",
    "    if month in [12, 1, 2]:\n",
    "        return 'Winter'\n",
    "    elif month in [3, 4, 5]:\n",
    "        return 'Spring'\n",
    "    elif month in [6, 7, 8]:\n",
    "        return 'Summer'\n",
    "    else:\n",
    "        return 'Fall'\n",
    "df['Season'] = df['Month'].apply(season)\n",
    "\n",
    "print(df['Season'].value_counts())"
   ]
  },
  {
   "cell_type": "code",
   "execution_count": 9,
   "id": "64a5d8c2-c8e8-4ee8-8e27-1f384217c4b8",
   "metadata": {},
   "outputs": [],
   "source": [
    "df['IsWeekend'] = df['Weekday'].apply(lambda x: 1 if x >= 5 else 0)"
   ]
  },
  {
   "cell_type": "code",
   "execution_count": 10,
   "id": "fbd2f404-405c-4918-96d1-916f73723a2e",
   "metadata": {},
   "outputs": [],
   "source": [
    "features = ['Year', 'Month', 'Weekday', 'Season', 'Age_Group', 'IsWeekend']\n",
    "\n",
    "df_encoded = pd.get_dummies(df[features], drop_first=True)\n",
    "\n",
    "X = df_encoded\n",
    "y = df['Weapon_Label']"
   ]
  },
  {
   "cell_type": "code",
   "execution_count": 11,
   "id": "f15274f8-412d-42f4-a472-808ef0a60db1",
   "metadata": {},
   "outputs": [],
   "source": [
    "X_train, X_test, y_train, y_test = train_test_split(\n",
    "    X, y, test_size=0.2, random_state=42, stratify=y\n",
    ")"
   ]
  },
  {
   "cell_type": "code",
   "execution_count": 12,
   "id": "03eda99c-0dcd-4616-b3b3-72745de50f71",
   "metadata": {},
   "outputs": [
    {
     "name": "stdout",
     "output_type": "stream",
     "text": [
      "Class Weights: {0: 4.903225806451613, 1: 0.3989501312335958, 2: 3.4545454545454546}\n"
     ]
    }
   ],
   "source": [
    "weights = class_weight.compute_class_weight(\n",
    "    class_weight='balanced',\n",
    "    classes=le.classes_,\n",
    "    y=df['Weapon_Simplified']\n",
    ")\n",
    "\n",
    "class_weights_dict = {i:weight for i, weight in enumerate(weights)}\n",
    "\n",
    "print('Class Weights:', class_weights_dict)"
   ]
  },
  {
   "cell_type": "code",
   "execution_count": 13,
   "id": "6d8e7af5-4089-48f9-b267-d10444f0f244",
   "metadata": {},
   "outputs": [
    {
     "name": "stdout",
     "output_type": "stream",
     "text": [
      "Best Parameters: {'max_depth': None, 'min_samples_split': 5, 'n_estimators': 100}\n"
     ]
    }
   ],
   "source": [
    "param_grid = {\n",
    "    'n_estimators': [100, 200],\n",
    "    'max_depth': [None, 10, 20],\n",
    "    'min_samples_split': [2, 5],\n",
    "}\n",
    "\n",
    "clf = RandomForestClassifier(class_weight=class_weights_dict, random_state=42)\n",
    "\n",
    "grid = GridSearchCV(clf, param_grid, cv=3, n_jobs=-1, scoring='f1_weighted')\n",
    "grid.fit(X_train, y_train)\n",
    "\n",
    "print('Best Parameters:', grid.best_params_)"
   ]
  },
  {
   "cell_type": "code",
   "execution_count": 14,
   "id": "aaaa7e90-7a34-41f9-a784-0521f86a241b",
   "metadata": {},
   "outputs": [
    {
     "name": "stdout",
     "output_type": "stream",
     "text": [
      "Tuned Classification Report:\n",
      "              precision    recall  f1-score   support\n",
      "\n",
      "       Blade       0.10      0.08      0.09        12\n",
      "         Gun       0.85      0.90      0.87       153\n",
      "       Other       0.17      0.11      0.13        18\n",
      "\n",
      "    accuracy                           0.77       183\n",
      "   macro avg       0.37      0.36      0.37       183\n",
      "weighted avg       0.73      0.77      0.75       183\n",
      "\n"
     ]
    }
   ],
   "source": [
    "best_model = grid.best_estimator_\n",
    "y_pred = best_model.predict(X_test)\n",
    "\n",
    "print('Tuned Classification Report:')\n",
    "print(classification_report(y_test, y_pred, target_names=le.classes_))"
   ]
  }
 ],
 "metadata": {
  "kernelspec": {
   "display_name": "Python [conda env:base] *",
   "language": "python",
   "name": "conda-base-py"
  },
  "language_info": {
   "codemirror_mode": {
    "name": "ipython",
    "version": 3
   },
   "file_extension": ".py",
   "mimetype": "text/x-python",
   "name": "python",
   "nbconvert_exporter": "python",
   "pygments_lexer": "ipython3",
   "version": "3.12.2"
  }
 },
 "nbformat": 4,
 "nbformat_minor": 5
}
