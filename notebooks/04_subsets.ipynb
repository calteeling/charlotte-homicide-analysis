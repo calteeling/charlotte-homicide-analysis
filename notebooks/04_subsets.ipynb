{
 "cells": [
  {
   "cell_type": "code",
   "execution_count": 1,
   "id": "d4e86ed2-5576-4fdc-a411-ae8ccebd1437",
   "metadata": {},
   "outputs": [],
   "source": [
    "import pandas as pd\n",
    "import folium\n",
    "from folium.plugins import HeatMap\n",
    "import os\n"
   ]
  },
  {
   "cell_type": "code",
   "execution_count": 2,
   "id": "a8b3be56-8f2b-4de4-91d8-e08aedfc2c06",
   "metadata": {},
   "outputs": [],
   "source": [
    "df = pd.read_csv('../data/homicide_cleaned.csv', parse_dates=['Incident_Date'])\n",
    "df = df.dropna(subset=['Latitude', 'Longitude'])\n",
    "\n",
    "def plot_heatmap(df_subset, filename):\n",
    "    heat_data = df_subset[['Latitude', 'Longitude']].dropna().values.tolist()\n",
    "    m = folium.Map(\n",
    "        location=[df_subset['Latitude'].mean(), df_subset['Longitude'].mean()],\n",
    "        zoom_start=11,\n",
    "        tiles='OpenStreetMap'\n",
    "    )\n",
    "    HeatMap(\n",
    "        heat_data,\n",
    "        radius=25,\n",
    "        blur=15,\n",
    "        min_opacity=0.45,\n",
    "        max_zoom=16\n",
    "    ).add_to(m)\n",
    "    os.makedirs('../outputs', exist_ok=True)\n",
    "    map_path = f'../outputs/{filename}.html'\n",
    "    m.save(map_path)\n",
    "    print(f\"✅ Map saved: ../outputs/{filename}.html\")\n",
    "\n",
    "    "
   ]
  },
  {
   "cell_type": "code",
   "execution_count": 3,
   "id": "8f72f2ce-8f91-4019-9f8f-e2bcb83442c8",
   "metadata": {},
   "outputs": [
    {
     "name": "stdout",
     "output_type": "stream",
     "text": [
      "✅ Map saved: ../outputs/heatmap_2023.html\n"
     ]
    }
   ],
   "source": [
    "\n",
    "plot_heatmap(df[df['Year'] == 2023], 'heatmap_2023')"
   ]
  },
  {
   "cell_type": "code",
   "execution_count": 4,
   "id": "db70dbbb-74ff-44e2-8b8e-718460a54cc4",
   "metadata": {},
   "outputs": [
    {
     "name": "stdout",
     "output_type": "stream",
     "text": [
      "✅ Map saved: ../outputs/heatmap_handgun.html\n"
     ]
    }
   ],
   "source": [
    "plot_heatmap(df[df['Weapon'] == 'Handgun'], 'heatmap_handgun')"
   ]
  },
  {
   "cell_type": "code",
   "execution_count": 5,
   "id": "4148c572-1f1f-476b-a26a-f6f1376c7751",
   "metadata": {},
   "outputs": [
    {
     "name": "stdout",
     "output_type": "stream",
     "text": [
      "✅ Map saved: ../outputs/heatmap_npa12.html\n"
     ]
    }
   ],
   "source": [
    "plot_heatmap(df[df['NPA'] == 12], 'heatmap_npa12')"
   ]
  },
  {
   "cell_type": "code",
   "execution_count": 6,
   "id": "06916f1f-1953-4439-8ae0-02fe7742385f",
   "metadata": {},
   "outputs": [
    {
     "name": "stdout",
     "output_type": "stream",
     "text": [
      "✅ Map saved: ../outputs/heat_map_knife_2022.html\n"
     ]
    }
   ],
   "source": [
    "plot_heatmap(df[(df['Weapon'] == 'Knife') & (df['Year'] == 2022)], 'heat_map_knife_2022')"
   ]
  },
  {
   "cell_type": "code",
   "execution_count": null,
   "id": "2919fd5f-e8d4-4eac-b8e2-d390dbf2de40",
   "metadata": {},
   "outputs": [],
   "source": []
  },
  {
   "cell_type": "code",
   "execution_count": null,
   "id": "be9888a0-3639-4203-a3d6-d95d4515727a",
   "metadata": {},
   "outputs": [],
   "source": []
  }
 ],
 "metadata": {
  "kernelspec": {
   "display_name": "Python [conda env:base] *",
   "language": "python",
   "name": "conda-base-py"
  },
  "language_info": {
   "codemirror_mode": {
    "name": "ipython",
    "version": 3
   },
   "file_extension": ".py",
   "mimetype": "text/x-python",
   "name": "python",
   "nbconvert_exporter": "python",
   "pygments_lexer": "ipython3",
   "version": "3.12.2"
  }
 },
 "nbformat": 4,
 "nbformat_minor": 5
}
