{
 "cells": [
  {
   "cell_type": "code",
   "execution_count": 1,
   "id": "192131ee-da8a-4997-bbb7-134cf91ea1df",
   "metadata": {},
   "outputs": [],
   "source": [
    "import pandas as pd\n",
    "import json\n",
    "import os"
   ]
  },
  {
   "cell_type": "code",
   "execution_count": 2,
   "id": "f1948e06-f26d-48b2-ab70-92c27856e3f3",
   "metadata": {},
   "outputs": [],
   "source": [
    "#Load raw homicide data from local JSON file\n",
    "with open('../data/homicide_raw.json') as f:\n",
    "    data = json.load(f)\n",
    "\n",
    "#Extract relevant fields from each incident\n",
    "rows = []\n",
    "for feature in data['features']:\n",
    "    attr = feature['attributes']\n",
    "    geom = feature.get('geometry', {})\n",
    "\n",
    "    #Construct a row dictionary for each incident\n",
    "    row = {\n",
    "    'Latitude': geom.get('y'),\n",
    "    'Longitude': geom.get('x'),\n",
    "    'Incident_Date': attr.get('DATE_REPORTED'),\n",
    "    'NPA': attr.get('NPA'),\n",
    "    'Weapon': attr.get('WEAPON'),\n",
    "    'Age': attr.get('AGE'),\n",
    "    'Gender': attr.get('GENDER'),\n",
    "    'Race': attr.get('RACE_ETHNICITY')\n",
    "    }\n",
    "    rows.append(row)\n",
    "#Convert list of dictionaries to a DataFrame\n",
    "df = pd.DataFrame(rows)\n",
    "\n",
    "df.dropna(subset=['Latitude', 'Longitude'], inplace=True)\n",
    "df['Incident_Date'] = pd.to_datetime(df['Incident_Date'], unit='ms')\n",
    "\n",
    "df['Year'] = df['Incident_Date'].dt.year\n",
    "df['Month'] = df['Incident_Date'].dt.month\n",
    "df['Weekday'] = df['Incident_Date'].dt.dayofweek\n",
    "df['Hour'] = df['Incident_Date'].dt.hour\n",
    "#Filters to just Charlotte\n",
    "df = df[\n",
    "    (df['Latitude'] >= 34.5) & (df['Latitude'] <= 36) &\n",
    "    (df['Longitude'] >= -82) & (df['Longitude'] <= -78)\n",
    "]\n",
    "\n",
    "\n",
    "os.makedirs('../data', exist_ok=True)\n",
    "df.to_csv('../data/homicide_cleaned.csv', index=False)"
   ]
  },
  {
   "cell_type": "code",
   "execution_count": 3,
   "id": "2c330b6c-4059-450f-9727-e522c0491868",
   "metadata": {},
   "outputs": [
    {
     "name": "stdout",
     "output_type": "stream",
     "text": [
      "<class 'pandas.core.frame.DataFrame'>\n",
      "Index: 923 entries, 0 to 926\n",
      "Data columns (total 12 columns):\n",
      " #   Column         Non-Null Count  Dtype         \n",
      "---  ------         --------------  -----         \n",
      " 0   Latitude       923 non-null    float64       \n",
      " 1   Longitude      923 non-null    float64       \n",
      " 2   Incident_Date  923 non-null    datetime64[ns]\n",
      " 3   NPA            923 non-null    int64         \n",
      " 4   Weapon         912 non-null    object        \n",
      " 5   Age            894 non-null    object        \n",
      " 6   Gender         916 non-null    object        \n",
      " 7   Race           916 non-null    object        \n",
      " 8   Year           923 non-null    int32         \n",
      " 9   Month          923 non-null    int32         \n",
      " 10  Weekday        923 non-null    int32         \n",
      " 11  Hour           923 non-null    int32         \n",
      "dtypes: datetime64[ns](1), float64(2), int32(4), int64(1), object(4)\n",
      "memory usage: 79.3+ KB\n",
      "File saved: False\n"
     ]
    }
   ],
   "source": [
    "df.head()\n",
    "df.info()\n",
    "df[['Weapon', 'Gender', 'Race']].value_counts().head()\n",
    "print('File saved:', os.path.exists('../Charlotte Homicide Project/homicide_cleaned.csv'))\n"
   ]
  }
 ],
 "metadata": {
  "kernelspec": {
   "display_name": "Python [conda env:base] *",
   "language": "python",
   "name": "conda-base-py"
  },
  "language_info": {
   "codemirror_mode": {
    "name": "ipython",
    "version": 3
   },
   "file_extension": ".py",
   "mimetype": "text/x-python",
   "name": "python",
   "nbconvert_exporter": "python",
   "pygments_lexer": "ipython3",
   "version": "3.12.2"
  }
 },
 "nbformat": 4,
 "nbformat_minor": 5
}
