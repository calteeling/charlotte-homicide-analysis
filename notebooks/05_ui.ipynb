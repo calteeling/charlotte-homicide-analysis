{
 "cells": [
  {
   "cell_type": "code",
   "execution_count": 1,
   "id": "660a4d07-01e5-4e80-8f86-b9b526a14a5d",
   "metadata": {},
   "outputs": [],
   "source": [
    "import pandas as pd\n",
    "import folium\n",
    "from folium.plugins import HeatMap\n",
    "import os\n",
    "import ipywidgets as widgets\n",
    "from IPython.display import display, clear_output"
   ]
  },
  {
   "cell_type": "code",
   "execution_count": 2,
   "id": "28457685-592a-4d27-a96f-9fc9f2a4e761",
   "metadata": {},
   "outputs": [
    {
     "data": {
      "application/vnd.jupyter.widget-view+json": {
       "model_id": "c2b46ed9c21a49eb8e104adab65c8779",
       "version_major": 2,
       "version_minor": 0
      },
      "text/plain": [
       "VBox(children=(Dropdown(description='Year:', options=('All', 2015, 2016, 2017, 2018, 2019, 2020, 2021, 2022, 2…"
      ]
     },
     "metadata": {},
     "output_type": "display_data"
    },
    {
     "data": {
      "application/vnd.jupyter.widget-view+json": {
       "model_id": "0e53aff118cd42b3bd588bebc5e19041",
       "version_major": 2,
       "version_minor": 0
      },
      "text/plain": [
       "Output()"
      ]
     },
     "metadata": {},
     "output_type": "display_data"
    }
   ],
   "source": [
    "\n",
    "df = pd.read_csv('../data/homicide_cleaned.csv', parse_dates=['Incident_Date'])\n",
    "df = df.dropna(subset=['Latitude', 'Longitude'])\n",
    "\n",
    "def plot_heatmap(df_subset):\n",
    "    if df_subset.empty:\n",
    "        return folium.Map(location=[35.2271, -80.8431], zoom_start=12)\n",
    "    heat_data = df_subset[['Latitude', 'Longitude']]. dropna().values.tolist()\n",
    "    m = folium.Map(location=[df_subset['Latitude'].mean(), df_subset['Longitude'].mean()],\n",
    "    zoom_start=11, tiles='OpenStreetMap')\n",
    "    HeatMap(heat_data, radius=20, blur=15, min_opacity=0.45, max_zoom=16).add_to(m)\n",
    "    return m\n",
    "\n",
    "weapon_options = sorted(df['Weapon'].dropna().unique())\n",
    "weapon_dropdown = widgets.Dropdown(\n",
    "    options=['All'] + sorted(df['Weapon'].dropna().unique().tolist()),\n",
    "    value='All',\n",
    "    description='Weapon:',\n",
    "    style={'description_width': 'initial'}\n",
    ")\n",
    "\n",
    "year_dropdown = widgets.Dropdown(\n",
    "    options=['All'] + sorted(df['Year'].dropna().unique().tolist()),\n",
    "    value='All',\n",
    "    description='Year:'\n",
    ")\n",
    "month_labels = {\n",
    "    1: 'January', 2: 'February', 3: 'March', 4: 'April', 5: 'May', 6: 'June', 7: 'July',\n",
    "    8: 'August', 9: 'September', 10: 'October', 11: 'November', 12: 'December'\n",
    "}\n",
    "\n",
    "month_dropdown = widgets.Dropdown(\n",
    "    options=[('All', 'All')] + [(label, num) for num, label in month_labels.items()],\n",
    "    value='All',\n",
    "    description='Month:'\n",
    ")\n",
    "\n",
    "weekday_labels = {\n",
    "    0: 'Monday', 1:'Tuesday', 2: 'Wednesday', 3: 'Thursday',\n",
    "    4: 'Friday', 5: 'Saturday', 6: 'Sunday'\n",
    "}\n",
    "weekday_dropdown = widgets.Dropdown(\n",
    "    options=[('All', 'All')] + [(label, num) for num, label in weekday_labels.items()],\n",
    "    value='All',\n",
    "    description='Weekday:'\n",
    ")\n",
    "\n",
    "output = widgets.Output()\n",
    "\n",
    "def update_map(change=None):\n",
    "    year = year_dropdown.value\n",
    "    month = month_dropdown.value\n",
    "    weekday = weekday_dropdown.value\n",
    "    weapon = weapon_dropdown.value\n",
    "    filtered_df = df.copy()\n",
    "    if year != 'All':\n",
    "        filtered_df = filtered_df[filtered_df['Year'] == year]\n",
    "    if month != 'All':\n",
    "        filtered_df = filtered_df[filtered_df['Month'] == month]\n",
    "    if weekday != 'All':\n",
    "        filtered_df = filtered_df[filtered_df['Weekday'] == weekday]\n",
    "    if weapon != 'All':\n",
    "        filtered_df = filtered_df[filtered_df['Weapon'] == weapon]\n",
    "    m = plot_heatmap(filtered_df)\n",
    "    with output:\n",
    "        clear_output(wait=True)\n",
    "        if filtered_df.empty:\n",
    "            print(\"No incidents found for this combination.\")\n",
    "        display(m)\n",
    "\n",
    "year_dropdown.observe(update_map, names='value')\n",
    "month_dropdown.observe(update_map, names='value')\n",
    "weekday_dropdown.observe(update_map, names='value')\n",
    "weapon_dropdown.observe(update_map, names='value')\n",
    "\n",
    "display(widgets.VBox([\n",
    "    year_dropdown,\n",
    "    month_dropdown,\n",
    "    weekday_dropdown,\n",
    "    weapon_dropdown\n",
    "]), output)\n",
    "\n",
    "update_map()"
   ]
  },
  {
   "cell_type": "code",
   "execution_count": null,
   "id": "3fd8e9fd-8a12-49c0-8585-1e3b06a91d23",
   "metadata": {},
   "outputs": [],
   "source": []
  },
  {
   "cell_type": "code",
   "execution_count": null,
   "id": "32adde8a-c0d8-49ec-868d-453308f5a028",
   "metadata": {},
   "outputs": [],
   "source": []
  }
 ],
 "metadata": {
  "kernelspec": {
   "display_name": "Python [conda env:base] *",
   "language": "python",
   "name": "conda-base-py"
  },
  "language_info": {
   "codemirror_mode": {
    "name": "ipython",
    "version": 3
   },
   "file_extension": ".py",
   "mimetype": "text/x-python",
   "name": "python",
   "nbconvert_exporter": "python",
   "pygments_lexer": "ipython3",
   "version": "3.12.2"
  }
 },
 "nbformat": 4,
 "nbformat_minor": 5
}
