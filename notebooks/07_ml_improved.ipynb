{
 "cells": [
  {
   "cell_type": "code",
   "execution_count": 4,
   "id": "4d2a2329-beb5-4f16-8d4e-9f787dcba837",
   "metadata": {},
   "outputs": [],
   "source": [
    "import pandas as pd\n",
    "import numpy as np\n",
    "from sklearn.model_selection import train_test_split\n",
    "from sklearn.ensemble import RandomForestClassifier\n",
    "from sklearn.metrics import classification_report, confusion_matrix\n",
    "import joblib"
   ]
  },
  {
   "cell_type": "code",
   "execution_count": 5,
   "id": "bb9cdac2-0756-4200-8f40-8daa169de386",
   "metadata": {},
   "outputs": [
    {
     "name": "stdout",
     "output_type": "stream",
     "text": [
      "Weapon_Simplified\n",
      "Gun      762\n",
      "Other     88\n",
      "Blade     62\n",
      "Name: count, dtype: int64\n",
      "Label mapping: {0: 'Blade', 1: 'Gun', 2: 'Other'}\n",
      "Confusion Matrix:\n",
      "[[  3  15   1]\n",
      " [ 11 202  16]\n",
      " [  2  23   1]]\n",
      "\n",
      "Classification Report:\n",
      "              precision    recall  f1-score   support\n",
      "\n",
      "       Blade       0.19      0.16      0.17        19\n",
      "         Gun       0.84      0.88      0.86       229\n",
      "       Other       0.06      0.04      0.05        26\n",
      "\n",
      "    accuracy                           0.75       274\n",
      "   macro avg       0.36      0.36      0.36       274\n",
      "weighted avg       0.72      0.75      0.74       274\n",
      "\n"
     ]
    }
   ],
   "source": [
    "#Load cleaned data\n",
    "df = pd.read_csv('../data/homicide_cleaned.csv', parse_dates=['Incident_Date'])\n",
    "df = df.dropna(subset=['Latitude', 'Longitude', 'Weapon'])\n",
    "               \n",
    "#Extract time features for prediction\n",
    "df['Year'] = df['Incident_Date'].dt.year\n",
    "df['Month'] = df['Incident_Date'].dt.month\n",
    "df['Weekday'] = df['Incident_Date'].dt.dayofweek\n",
    "\n",
    "def simplify_weapon(weapon):\n",
    "    if not isinstance(weapon, str):\n",
    "        return 'Other'\n",
    "    weapon = weapon.lower()\n",
    "    weapon_list = [w.strip() for w in weapon.split(',')]\n",
    "    for w in weapon_list:\n",
    "        if any(term in w for term in['gun','firearm','rifle','shotgun']):\n",
    "            return 'Gun'\n",
    "        elif any(term in w for term in['knife', 'cutting instrument', 'sharp', 'razor', 'screwdriver']):\n",
    "            return 'Blade'\n",
    "        return 'Other'\n",
    "\n",
    "#Apply mapping\n",
    "df['Weapon_Simplified'] = df['Weapon'].apply(simplify_weapon)\n",
    "print(df['Weapon_Simplified'].value_counts())\n",
    "\n",
    "#Prepare features and labels\n",
    "X = df[['Year', 'Month', 'Weekday']]\n",
    "y = df['Weapon_Simplified']\n",
    "\n",
    "#Encode target labels\n",
    "y_encoded = y.astype('category').cat.codes\n",
    "label_mapping = dict(enumerate(y.astype('category').cat.categories))\n",
    "print(\"Label mapping:\", label_mapping)\n",
    "\n",
    "#Train-test split\n",
    "X_train, X_test, y_train, y_test =  train_test_split(\n",
    "                                    X, y_encoded, test_size=0.3,\n",
    "                                    random_state=42, stratify= y_encoded)\n",
    "#Train Random Forest model\n",
    "model = RandomForestClassifier(n_estimators=100, random_state=42, class_weight='balanced')\n",
    "model.fit(X_train, y_train)\n",
    "\n",
    "#Predictions\n",
    "y_pred = model.predict(X_test)\n",
    "\n",
    "#Evalutation\n",
    "print(\"Confusion Matrix:\")\n",
    "print(confusion_matrix(y_test, y_pred))\n",
    "print(\"\\nClassification Report:\")\n",
    "print(classification_report(y_test, y_pred, target_names=label_mapping.values()))\n",
    "\n",
    "#Save model for later use\n",
    "joblib.dump(model, '../models/random_forest_weapon_classifier.pkl')\n",
    "\n",
    "#Save label mapping for decoding\n",
    "with open('../models/label_mapping.json', 'w') as f:\n",
    "    json.dump(label_mapping, f)\n",
    "df.to_csv('../data/homicide_cleaned.csv', index=False)"
   ]
  }
 ],
 "metadata": {
  "kernelspec": {
   "display_name": "Python [conda env:base] *",
   "language": "python",
   "name": "conda-base-py"
  },
  "language_info": {
   "codemirror_mode": {
    "name": "ipython",
    "version": 3
   },
   "file_extension": ".py",
   "mimetype": "text/x-python",
   "name": "python",
   "nbconvert_exporter": "python",
   "pygments_lexer": "ipython3",
   "version": "3.12.2"
  }
 },
 "nbformat": 4,
 "nbformat_minor": 5
}
