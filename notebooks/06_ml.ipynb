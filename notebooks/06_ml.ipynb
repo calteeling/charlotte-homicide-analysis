{
 "cells": [
  {
   "cell_type": "code",
   "execution_count": 10,
   "id": "c0e97051-72cf-4ac5-8ad9-85dfc340b2cc",
   "metadata": {},
   "outputs": [
    {
     "name": "stdout",
     "output_type": "stream",
     "text": [
      "                           precision    recall  f1-score   support\n",
      "\n",
      "                    Arson       0.00      0.00      0.00         1\n",
      "          Arson, Physical       0.00      0.00      0.00         0\n",
      "     Arson, Strangulation       0.00      0.00      0.00         0\n",
      "             Blunt Trauma       0.00      0.00      0.00         3\n",
      "    Blunt Trauma, Firearm       0.00      0.00      0.00         0\n",
      "Blunt Trauma, Handgun, Kn       1.00      1.00      1.00         1\n",
      "       Cutting Instrument       0.00      0.00      0.00         2\n",
      "Cutting Instrument, Stran       0.00      0.00      0.00         0\n",
      "                  Firearm       0.20      0.16      0.18        38\n",
      "                 Firearms       0.00      0.00      0.00         1\n",
      "                  Handgun       0.56      0.72      0.63       103\n",
      "           Handgun, Rifle       0.00      0.00      0.00         1\n",
      "         Handgun, Shotgun       0.00      0.00      0.00         0\n",
      "                    Knife       0.20      0.11      0.14         9\n",
      "          Knife, Physical       0.00      0.00      0.00         0\n",
      "                 Physical       0.00      0.00      0.00         5\n",
      "                    Razor       0.00      0.00      0.00         0\n",
      "                    Rifle       0.50      0.29      0.36         7\n",
      "           Rifle, Shotgun       0.00      0.00      0.00         0\n",
      "              Screwdriver       0.00      0.00      0.00         0\n",
      "                  Shotgun       0.00      0.00      0.00         4\n",
      "            Strangulation       0.00      0.00      0.00         2\n",
      "         Table Leg, Knife       0.00      0.00      0.00         0\n",
      "                  Unknown       0.25      0.50      0.33         2\n",
      "                  Vehicle       0.00      0.00      0.00         4\n",
      "\n",
      "                 accuracy                           0.46       183\n",
      "                macro avg       0.11      0.11      0.11       183\n",
      "             weighted avg       0.39      0.46      0.42       183\n",
      "\n"
     ]
    },
    {
     "name": "stderr",
     "output_type": "stream",
     "text": [
      "/opt/anaconda3/lib/python3.12/site-packages/sklearn/metrics/_classification.py:1565: UndefinedMetricWarning: Precision is ill-defined and being set to 0.0 in labels with no predicted samples. Use `zero_division` parameter to control this behavior.\n",
      "  _warn_prf(average, modifier, f\"{metric.capitalize()} is\", len(result))\n",
      "/opt/anaconda3/lib/python3.12/site-packages/sklearn/metrics/_classification.py:1565: UndefinedMetricWarning: Recall is ill-defined and being set to 0.0 in labels with no true samples. Use `zero_division` parameter to control this behavior.\n",
      "  _warn_prf(average, modifier, f\"{metric.capitalize()} is\", len(result))\n",
      "/opt/anaconda3/lib/python3.12/site-packages/sklearn/metrics/_classification.py:1565: UndefinedMetricWarning: F-score is ill-defined and being set to 0.0 in labels with no true nor predicted samples. Use `zero_division` parameter to control this behavior.\n",
      "  _warn_prf(average, modifier, f\"{metric.capitalize()} is\", len(result))\n",
      "/opt/anaconda3/lib/python3.12/site-packages/sklearn/metrics/_classification.py:1565: UndefinedMetricWarning: Precision is ill-defined and being set to 0.0 in labels with no predicted samples. Use `zero_division` parameter to control this behavior.\n",
      "  _warn_prf(average, modifier, f\"{metric.capitalize()} is\", len(result))\n",
      "/opt/anaconda3/lib/python3.12/site-packages/sklearn/metrics/_classification.py:1565: UndefinedMetricWarning: Recall is ill-defined and being set to 0.0 in labels with no true samples. Use `zero_division` parameter to control this behavior.\n",
      "  _warn_prf(average, modifier, f\"{metric.capitalize()} is\", len(result))\n",
      "/opt/anaconda3/lib/python3.12/site-packages/sklearn/metrics/_classification.py:1565: UndefinedMetricWarning: F-score is ill-defined and being set to 0.0 in labels with no true nor predicted samples. Use `zero_division` parameter to control this behavior.\n",
      "  _warn_prf(average, modifier, f\"{metric.capitalize()} is\", len(result))\n",
      "/opt/anaconda3/lib/python3.12/site-packages/sklearn/metrics/_classification.py:1565: UndefinedMetricWarning: Precision is ill-defined and being set to 0.0 in labels with no predicted samples. Use `zero_division` parameter to control this behavior.\n",
      "  _warn_prf(average, modifier, f\"{metric.capitalize()} is\", len(result))\n",
      "/opt/anaconda3/lib/python3.12/site-packages/sklearn/metrics/_classification.py:1565: UndefinedMetricWarning: Recall is ill-defined and being set to 0.0 in labels with no true samples. Use `zero_division` parameter to control this behavior.\n",
      "  _warn_prf(average, modifier, f\"{metric.capitalize()} is\", len(result))\n",
      "/opt/anaconda3/lib/python3.12/site-packages/sklearn/metrics/_classification.py:1565: UndefinedMetricWarning: F-score is ill-defined and being set to 0.0 in labels with no true nor predicted samples. Use `zero_division` parameter to control this behavior.\n",
      "  _warn_prf(average, modifier, f\"{metric.capitalize()} is\", len(result))\n"
     ]
    },
    {
     "data": {
      "text/plain": [
       "['../models/weapons_encoder.pkl']"
      ]
     },
     "execution_count": 10,
     "metadata": {},
     "output_type": "execute_result"
    }
   ],
   "source": [
    "import pandas as pd\n",
    "from sklearn.preprocessing import LabelEncoder\n",
    "from sklearn.model_selection import train_test_split\n",
    "from sklearn.ensemble import RandomForestClassifier\n",
    "from sklearn.metrics import classification_report\n",
    "import joblib\n",
    "import numpy as np\n",
    "\n",
    "#Load the cleaned data\n",
    "df = pd.read_csv('../data/homicide_cleaned.csv', parse_dates=['Incident_Date'])\n",
    "df = df.dropna(subset=['Latitude','Longitude', 'Weapon'])\n",
    "\n",
    "#Extract time features for prediction\n",
    "df['Year'] = df['Incident_Date'].dt.year\n",
    "df['Month'] = df['Incident_Date'].dt.month\n",
    "df['Weekday'] = df['Incident_Date'].dt.dayofweek\n",
    "\n",
    "#Prepare Features, X, and Labels, y\n",
    "X = df[['Year', 'Month', 'Weekday']]\n",
    "y = df['Weapon']\n",
    "\n",
    "#Encode the Weapon Labels\n",
    "encoder = LabelEncoder()\n",
    "y_encoded = encoder.fit_transform(y)\n",
    "X_train, X_test, y_train, y_test = train_test_split(X, y_encoded, test_size=0.2, random_state=42)\n",
    "\n",
    "#Train a Random Forest Classifier\n",
    "clf = RandomForestClassifier(random_state=42)\n",
    "clf.fit(X_train, y_train)\n",
    "\n",
    "#Evaluates the model\n",
    "y_pred = clf.predict(X_test)\n",
    "unique_labels = np.unique(y_test)\n",
    "unique_class_names = encoder.inverse_transform(unique_labels)\n",
    "\n",
    "all_labels = np.arange(len(encoder.classes_))\n",
    "all_class_names = encoder.inverse_transform(all_labels)\n",
    "print(classification_report(y_test, y_pred, labels=all_labels, target_names=all_class_names))\n",
    "\n",
    "#Saves the model and encoder\n",
    "joblib.dump(clf, '../models/weapons_predictor.pkl')\n",
    "joblib.dump(encoder, '../models/weapons_encoder.pkl')"
   ]
  }
 ],
 "metadata": {
  "kernelspec": {
   "display_name": "Python [conda env:base] *",
   "language": "python",
   "name": "conda-base-py"
  },
  "language_info": {
   "codemirror_mode": {
    "name": "ipython",
    "version": 3
   },
   "file_extension": ".py",
   "mimetype": "text/x-python",
   "name": "python",
   "nbconvert_exporter": "python",
   "pygments_lexer": "ipython3",
   "version": "3.12.2"
  }
 },
 "nbformat": 4,
 "nbformat_minor": 5
}
