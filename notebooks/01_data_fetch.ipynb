{
 "cells": [
  {
   "cell_type": "code",
   "execution_count": 2,
   "id": "dd6bd9ac-8c16-4119-8737-aba769622b6d",
   "metadata": {},
   "outputs": [],
   "source": [
    "import requests\n",
    "import json\n",
    "import os"
   ]
  },
  {
   "cell_type": "code",
   "execution_count": 3,
   "id": "d5cc0392-27b7-4adf-a764-237cd4a72279",
   "metadata": {},
   "outputs": [],
   "source": [
    "#Creates data folder if it doesn't exist\n",
    "os.makedirs('../data', exist_ok=True)\n",
    "\n",
    "API_URL = \"https://gis.charlottenc.gov/arcgis/rest/services/ODP/CMPD_Homicide/MapServer/0/query?where=1%3D1&outFields=*&outSR=4326&f=json\"\n",
    "response = requests.get(API_URL)\n",
    "data = response.json()\n",
    "\n",
    "with open('../data/homicide_raw.json', 'w') as f:\n",
    "    json.dump(data, f)\n",
    "\n"
   ]
  }
 ],
 "metadata": {
  "kernelspec": {
   "display_name": "Python [conda env:base] *",
   "language": "python",
   "name": "conda-base-py"
  },
  "language_info": {
   "codemirror_mode": {
    "name": "ipython",
    "version": 3
   },
   "file_extension": ".py",
   "mimetype": "text/x-python",
   "name": "python",
   "nbconvert_exporter": "python",
   "pygments_lexer": "ipython3",
   "version": "3.12.2"
  }
 },
 "nbformat": 4,
 "nbformat_minor": 5
}
