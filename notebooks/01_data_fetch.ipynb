{
 "cells": [
  {
   "cell_type": "markdown",
   "id": "9618dadc-82c8-403d-8b68-fbc7d0d3e74f",
   "metadata": {},
   "source": [
    "Charlotte Crime Map:\n",
    "Goals:\n",
    "- Utilize Charlotte's public crime API to find accurate and up to date data\n",
    "- Clean and sort raw data from API\n",
    "- Create a heat map from the data\n",
    "- Create machine learning alg that tries to predicts where certain types of crimes will happen\n",
    "- Provide helpful insight into Charlotte crime and highlight important reminders"
   ]
  },
  {
   "cell_type": "code",
   "execution_count": 2,
   "id": "dd6bd9ac-8c16-4119-8737-aba769622b6d",
   "metadata": {},
   "outputs": [],
   "source": [
    "#Imports:\n",
    "import requests\n",
    "import json\n",
    "import os"
   ]
  },
  {
   "cell_type": "code",
   "execution_count": 3,
   "id": "d5cc0392-27b7-4adf-a764-237cd4a72279",
   "metadata": {},
   "outputs": [],
   "source": [
    "#Creates data folder if it doesn't exist\n",
    "os.makedirs('../data', exist_ok=True)\n",
    "\n",
    "API_URL = \"https://gis.charlottenc.gov/arcgis/rest/services/ODP/CMPD_Homicide/MapServer/0/query?where=1%3D1&outFields=*&outSR=4326&f=json\"\n",
    "response = requests.get(API_URL)\n",
    "data = response.json()\n",
    "\n",
    "with open('../data/homicide_raw.json', 'w') as f:\n",
    "    json.dump(data, f)\n",
    "\n"
   ]
  },
  {
   "cell_type": "code",
   "execution_count": null,
   "id": "fdfaae94-a2ce-43ab-b59b-9cc039739001",
   "metadata": {},
   "outputs": [],
   "source": []
  },
  {
   "cell_type": "code",
   "execution_count": null,
   "id": "65ea2af1-0ff7-44a3-a0f5-152f4132b99c",
   "metadata": {},
   "outputs": [],
   "source": []
  }
 ],
 "metadata": {
  "kernelspec": {
   "display_name": "Python [conda env:base] *",
   "language": "python",
   "name": "conda-base-py"
  },
  "language_info": {
   "codemirror_mode": {
    "name": "ipython",
    "version": 3
   },
   "file_extension": ".py",
   "mimetype": "text/x-python",
   "name": "python",
   "nbconvert_exporter": "python",
   "pygments_lexer": "ipython3",
   "version": "3.12.2"
  }
 },
 "nbformat": 4,
 "nbformat_minor": 5
}
